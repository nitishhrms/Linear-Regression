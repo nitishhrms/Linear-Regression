{
 "cells": [
  {
   "cell_type": "code",
   "execution_count": 1,
   "metadata": {},
   "outputs": [],
   "source": [
    "import numpy as np\n",
    "import pandas as pd\n",
    "import matplotlib.pyplot as plt\n",
    "from sklearn.linear_model import LinearRegression\n",
    "from sklearn.datasets import make_regression\n",
    "import seaborn as sns"
   ]
  },
  {
   "cell_type": "code",
   "execution_count": 2,
   "metadata": {},
   "outputs": [],
   "source": [
    "dfx=pd.read_csv('multivariate regression.csv')\n",
    "dfz=pd.read_csv('multivariatetest.csv')"
   ]
  },
  {
   "cell_type": "code",
   "execution_count": 3,
   "metadata": {},
   "outputs": [
    {
     "name": "stdout",
     "output_type": "stream",
     "text": [
      "(1600, 5)\n",
      "(1600, 1)\n",
      "(400, 5)\n"
     ]
    }
   ],
   "source": [
    "X=dfx.values\n",
    "#X=(X-np.mean(X))/np.std(X)\n",
    "X=X[:,:5]\n",
    "Y=X[:,4:]\n",
    "#Y=(Y-np.mean(Y))/np.std(Y)\n",
    "xtest=dfz.values\n",
    "#xtest=(xtest-np.mean(xtest))/np.std(xtest)\n",
    "print(X.shape) \n",
    "print(Y.shape) \n",
    "print(xtest.shape)"
   ]
  },
  {
   "cell_type": "code",
   "execution_count": 4,
   "metadata": {},
   "outputs": [
    {
     "name": "stdout",
     "output_type": "stream",
     "text": [
      "[[ 0.29341624 -0.94559871 -0.42110515  0.40681602  0.52566183]\n",
      " [-0.83608408 -0.18922804 -0.77640262 -1.05383124  0.59799685]\n",
      " [ 0.23642511  0.13283602 -0.14772298  0.69985396 -0.18736416]\n",
      " ...\n",
      " [ 1.04417694 -0.89920649  1.73039905 -1.87105676  0.44251965]\n",
      " [-1.2691729  -0.00505216  1.85766873 -1.08036482  0.73633394]\n",
      " [-1.88400025 -0.84942743 -1.45227035  0.48861308  1.4595758 ]]\n"
     ]
    }
   ],
   "source": [
    "print(X)"
   ]
  },
  {
   "cell_type": "code",
   "execution_count": 5,
   "metadata": {},
   "outputs": [],
   "source": [
    "ones = np.ones((X.shape[0],1))\n",
    "ones.shape, X.shape\n",
    "X_appended = np.append(ones, X, axis = 1)"
   ]
  },
  {
   "cell_type": "code",
   "execution_count": 6,
   "metadata": {},
   "outputs": [],
   "source": [
    "X= X_appended.copy()"
   ]
  },
  {
   "cell_type": "code",
   "execution_count": 7,
   "metadata": {},
   "outputs": [],
   "source": [
    "ones=np.ones((xtest.shape[0],1))\n",
    "x_appended=np.append(ones,xtest,axis=1)\n",
    "xtest=x_appended.copy()"
   ]
  },
  {
   "cell_type": "code",
   "execution_count": 8,
   "metadata": {},
   "outputs": [
    {
     "name": "stdout",
     "output_type": "stream",
     "text": [
      "(1600, 6)\n",
      "(1600, 1)\n",
      "(400, 6)\n"
     ]
    }
   ],
   "source": [
    "print(X.shape)\n",
    "print(Y.shape)\n",
    "print(xtest.shape)"
   ]
  },
  {
   "cell_type": "code",
   "execution_count": 9,
   "metadata": {},
   "outputs": [],
   "source": [
    "def hypothesis(X,theta):\n",
    "        return np.dot(theta.T,X)"
   ]
  },
  {
   "cell_type": "code",
   "execution_count": 10,
   "metadata": {},
   "outputs": [],
   "source": [
    "#def sum(theta):\n",
    "    #sum_=0\n",
    "    #for ix in range(theta.shape[0]):\n",
    "        #sum_=sum_+(theta[ix])**2\n",
    "        \n",
    "    #return sum_    "
   ]
  },
  {
   "cell_type": "code",
   "execution_count": 11,
   "metadata": {},
   "outputs": [],
   "source": [
    "def error(X,Y,theta):\n",
    "    error=0\n",
    "    for ix in range(X.shape[0]):\n",
    "            hx=hypothesis(X[ix],theta)\n",
    "            error+=(hx-Y[ix])**2\n",
    "        \n",
    "    return error\n"
   ]
  },
  {
   "cell_type": "code",
   "execution_count": 12,
   "metadata": {},
   "outputs": [],
   "source": [
    "def batch_gradient(X,Y,theta,batch_size=100):\n",
    "    m=Y.shape[0]\n",
    "    indices=np.arange(m)\n",
    "    np.random.shuffle(indices)\n",
    "    indices=indices[:batch_size]\n",
    "    grad=np.zeros((6,))\n",
    "    for i in indices:\n",
    "        h=hypothesis(X[i],theta)\n",
    "        for j in range(X.shape[1]):\n",
    "            grad[j]+=(h-Y[i])*X[i][j]\n",
    "            \n",
    "    return grad*0.5    "
   ]
  },
  {
   "cell_type": "code",
   "execution_count": 13,
   "metadata": {},
   "outputs": [],
   "source": [
    "def gradient(X,Y,theta):\n",
    "    m=X.shape[0]\n",
    "    grad=np.zeros((6,))\n",
    "    for i in range(m):\n",
    "        hx=hypothesis(X[i],theta)\n",
    "        for j in range(X.shape[1]):\n",
    "            #hx=hypothesis(X[i],theta)\n",
    "            grad[j]+=(hx-Y[i])*X[i][j]\n",
    "            #grad_list.append(grad)        \n",
    "    return grad   "
   ]
  },
  {
   "cell_type": "code",
   "execution_count": 14,
   "metadata": {},
   "outputs": [],
   "source": [
    "def gradientDescent(X,Y,learning_rate=0.01):\n",
    "    itr=0\n",
    "    error_list=[]\n",
    "    theta_list=[]\n",
    "    theta=np.zeros((6,))\n",
    "    e=error(X,Y,theta)\n",
    "    while(itr<=100):\n",
    "        grad=batch_gradient(X,Y,theta)\n",
    "        #error_list.append(e)\n",
    "        for j in range(X.shape[1]):\n",
    "            theta[j]=theta[j]-learning_rate*(grad[j])\n",
    "            theta_list.append(theta)\n",
    "        ne=error(X,Y,theta)\n",
    "        tmp=e\n",
    "        error_list.append(ne)\n",
    "        itr+=1\n",
    "    return theta,error_list,theta_list\n",
    "    \n",
    "    "
   ]
  },
  {
   "cell_type": "code",
   "execution_count": 15,
   "metadata": {},
   "outputs": [
    {
     "name": "stdout",
     "output_type": "stream",
     "text": [
      "[[3.58448850e+02]\n",
      " [8.91560703e+01]\n",
      " [2.47633569e+01]\n",
      " [7.73712714e+00]\n",
      " [2.75643417e+00]\n",
      " [8.12866837e-01]\n",
      " [2.53590474e-01]\n",
      " [8.47666434e-02]\n",
      " [2.80954428e-02]\n",
      " [1.33971285e-02]\n",
      " [3.48517175e-03]\n",
      " [1.26228333e-03]\n",
      " [3.40107602e-04]\n",
      " [1.25715166e-04]\n",
      " [5.25204687e-05]\n",
      " [1.40740487e-05]\n",
      " [5.73338188e-06]\n",
      " [1.70104611e-06]\n",
      " [6.18099283e-07]\n",
      " [2.73034202e-07]\n",
      " [1.22773263e-07]\n",
      " [3.86486518e-08]\n",
      " [1.41875103e-08]\n",
      " [4.08532597e-09]\n",
      " [1.16292622e-09]\n",
      " [3.63422449e-10]\n",
      " [7.26500113e-11]\n",
      " [1.15643056e-11]\n",
      " [3.49439426e-12]\n",
      " [1.07108545e-12]\n",
      " [2.54721998e-13]\n",
      " [1.07746364e-13]\n",
      " [5.47652473e-14]\n",
      " [1.54927825e-14]\n",
      " [6.41982897e-15]\n",
      " [1.49857229e-15]\n",
      " [4.91134522e-16]\n",
      " [1.15565443e-16]\n",
      " [3.05721758e-17]\n",
      " [1.00743366e-17]\n",
      " [3.65785583e-18]\n",
      " [9.25296620e-19]\n",
      " [3.26696336e-19]\n",
      " [6.88449173e-20]\n",
      " [1.80699388e-20]\n",
      " [5.40162463e-21]\n",
      " [2.18555066e-21]\n",
      " [5.47699553e-22]\n",
      " [1.61688061e-22]\n",
      " [4.00551131e-23]\n",
      " [1.00748165e-23]\n",
      " [3.58711646e-24]\n",
      " [1.02499483e-24]\n",
      " [2.10679565e-25]\n",
      " [6.98948948e-26]\n",
      " [1.88868062e-26]\n",
      " [5.98309991e-27]\n",
      " [1.96060582e-27]\n",
      " [5.54387064e-28]\n",
      " [1.57381537e-28]\n",
      " [7.19724971e-29]\n",
      " [1.20559020e-29]\n",
      " [1.41408002e-30]\n",
      " [7.84562546e-31]\n",
      " [3.72429947e-31]\n",
      " [2.11941255e-31]\n",
      " [1.02217791e-31]\n",
      " [5.97269620e-32]\n",
      " [5.23785707e-32]\n",
      " [4.79383994e-32]\n",
      " [3.73716926e-32]\n",
      " [3.57006098e-32]\n",
      " [3.15465068e-32]\n",
      " [2.67476687e-32]\n",
      " [1.61137236e-32]\n",
      " [1.31758811e-32]\n",
      " [1.15516770e-32]\n",
      " [8.84032878e-33]\n",
      " [8.63621594e-33]\n",
      " [6.93076171e-33]\n",
      " [6.46413747e-33]\n",
      " [5.61829876e-33]\n",
      " [4.41802499e-33]\n",
      " [3.93405045e-33]\n",
      " [3.92427034e-33]\n",
      " [3.78885339e-33]\n",
      " [3.78701962e-33]\n",
      " [2.72394955e-33]\n",
      " [2.51706254e-33]\n",
      " [2.50502548e-33]\n",
      " [1.97671130e-33]\n",
      " [1.96584973e-33]\n",
      " [1.80128052e-33]\n",
      " [1.37410588e-33]\n",
      " [1.33221126e-33]\n",
      " [1.33221126e-33]\n",
      " [1.23892403e-33]\n",
      " [1.23892403e-33]\n",
      " [1.18828373e-33]\n",
      " [1.23459821e-33]\n",
      " [9.18437246e-34]]\n",
      "[-2.88535918e-18  9.04322844e-19 -2.66208126e-19 -1.21329540e-18\n",
      " -3.65955408e-19  1.00000000e+00]\n",
      "(6,)\n"
     ]
    }
   ],
   "source": [
    "theta,error_list,theta_list = gradientDescent(X,Y)\n",
    "#error_list.shape\n",
    "error_list=np.array(error_list)\n",
    "print(error_list)\n",
    "print(theta)\n",
    "print(theta.shape)\n"
   ]
  },
  {
   "cell_type": "code",
   "execution_count": 16,
   "metadata": {},
   "outputs": [
    {
     "data": {
      "image/png": "[encoded data removed]",
      "text/plain": [
       "<Figure size 432x288 with 1 Axes>"
      ]
     },
     "metadata": {
      "needs_background": "light"
     },
     "output_type": "display_data"
    }
   ],
   "source": [
    "plt.plot(error_list)\n",
    "plt.show()"
   ]
  },
  {
   "cell_type": "code",
   "execution_count": 18,
   "metadata": {},
   "outputs": [
    {
     "name": "stdout",
     "output_type": "stream",
     "text": [
      "[1.]\n"
     ]
    }
   ],
   "source": [
    "ss_t=0\n",
    "ss_r=0\n",
    "coff=0\n",
    "for i in range(X.shape[0]):\n",
    "    ss_t+=(Y[i]-np.mean(Y))**2\n",
    "    ss_r+=(Y[i]-hypothesis(X[i],theta))**2\n",
    "coff=1-(ss_r/ss_t)\n",
    "print(coff)"
   ]
  },
  {
   "cell_type": "code",
   "execution_count": 19,
   "metadata": {},
   "outputs": [
    {
     "name": "stdout",
     "output_type": "stream",
     "text": [
      "[-9.80502790e-01 -3.55489211e-01  4.55201351e-01 -1.31428633e+00\n",
      "  4.11925419e-01  3.34767132e-01 -1.03803115e+00 -5.85592253e-01\n",
      "  2.12006003e-01 -8.55755633e-01 -1.18244215e-01  1.00917976e+00\n",
      " -8.47442167e-01 -3.61030670e-01  1.08270618e+00  7.20733293e-01\n",
      " -1.88953941e-01 -1.25958330e+00 -4.58119771e-01  5.68131459e-01\n",
      "  6.57929411e-01  9.08110324e-02  4.36008257e-01  2.68175812e-01\n",
      "  1.56299721e+00 -2.46691692e-01  4.46150579e-01  1.40881836e-01\n",
      "  1.34283116e-01 -1.70832401e+00  2.87038209e+00 -3.09522205e-02\n",
      "  1.01064232e-01 -1.34698632e+00  3.05382703e-02 -9.66500426e-01\n",
      "  6.32542048e-01 -1.27206890e+00  2.06214024e-01  2.57644017e+00\n",
      "  3.64702317e-01 -4.06576560e-02  9.95208179e-01  3.79639108e-01\n",
      "  1.33396888e+00 -1.15340555e+00  1.44363473e+00 -1.18810922e+00\n",
      "  5.98537368e-01  1.05494773e+00 -3.30966521e-01 -8.64969977e-03\n",
      "  8.44194598e-01  1.29182486e+00  3.49686929e-01 -6.08678276e-01\n",
      " -4.26857477e-01  1.50133631e-01 -6.47841721e-01 -1.20020353e+00\n",
      "  3.53637073e-01  1.85369165e+00 -1.02797100e+00 -2.80087433e-01\n",
      " -1.24062862e+00 -6.71884651e-02 -7.29984483e-01 -1.52816395e+00\n",
      " -4.16459457e-02 -9.39568317e-01  1.36439798e-01 -2.71367035e-01\n",
      "  5.34120590e-01  5.56518358e-01  2.43242655e-01 -1.16508234e+00\n",
      "  3.98788341e-01  1.36627074e+00 -5.29416698e-01 -8.40465733e-02\n",
      " -2.06383094e-01 -1.76828753e+00 -7.08029281e-01 -4.02004872e-01\n",
      " -3.81954965e-01  3.15386190e-01 -2.19594935e-02  2.53580571e-01\n",
      " -1.01649475e+00 -7.31838976e-01  4.52113487e-01  7.88270001e-01\n",
      " -4.23087011e-01  2.67565392e-01 -1.34140777e+00  6.37331471e-02\n",
      " -5.22727438e-01  1.59466764e-01 -1.73285506e+00 -8.06419604e-01\n",
      "  3.10578614e-01  8.05988723e-01 -1.00147618e+00 -3.22905165e-02\n",
      "  6.01299852e-01  1.77514414e+00  9.75574735e-01 -1.86422767e+00\n",
      " -1.03767221e+00 -2.33720247e-01 -1.00601113e-01 -3.04848581e-01\n",
      " -4.60033398e-01  6.07962718e-01  5.39931179e-01 -1.67810814e-01\n",
      " -2.53143239e-01 -1.17287078e+00  3.03703960e-01  1.73497181e-02\n",
      " -1.16056045e+00 -2.39106836e-01  3.01839796e-01 -1.66695120e-01\n",
      "  9.39438227e-01 -4.21848808e-01 -1.49634103e-01 -1.91746906e+00\n",
      " -8.36085002e-01 -1.62079983e-01 -1.25455149e+00  1.22029967e+00\n",
      "  6.53227266e-01 -1.04089397e+00 -2.80904405e-01  5.88779410e-01\n",
      "  4.92727502e-01  5.17560613e-02  1.51986704e+00 -3.59464525e-01\n",
      "  6.94065548e-01  1.47342990e-01 -1.40182051e+00  8.02161763e-03\n",
      "  3.06549765e-01 -4.57624957e-01  6.14271560e-01  8.46602339e-03\n",
      "  5.84719163e-01 -3.45885452e-01 -1.85495922e-01  5.66551824e-01\n",
      "  4.85865875e-01  8.35731865e-01  1.46673952e+00  8.67449387e-01\n",
      " -2.74569078e-01  1.40264296e-03 -3.86792622e-02  9.96920983e-01\n",
      "  8.66580678e-01  2.97869837e-01  8.71865727e-02  2.10417249e-02\n",
      " -7.81711058e-01 -6.83968262e-01  4.74008036e-01  4.77903202e-01\n",
      "  3.40159417e-01 -4.03857081e-01  4.55271941e-01  1.87435348e-01\n",
      "  1.62858693e+00  2.26662535e+00  8.45994072e-01 -4.43280049e-01\n",
      " -1.98889581e+00 -1.67755661e+00  1.07248778e+00 -1.33308709e+00\n",
      "  1.92409868e+00 -9.17603918e-01  1.58710258e-01  5.43442336e-01\n",
      " -9.72440837e-01  5.07727295e-02  2.74580239e-01 -1.39512179e+00\n",
      "  2.26574732e-02  7.16138280e-01  1.48841665e+00  1.08898893e+00\n",
      "  1.00541204e-01  6.28966405e-02  5.19936876e-01  2.37115924e-01\n",
      " -5.54336748e-02 -1.15166260e-01 -7.19169025e-02 -1.19671053e+00\n",
      " -2.00650007e-01  1.77434442e+00 -5.48807216e-01 -8.11848733e-01\n",
      " -1.08427364e+00  9.53622927e-01 -1.00174549e-03  1.97867730e+00\n",
      " -9.70185664e-01 -4.93912702e-01 -5.71288987e-01  1.27340727e+00\n",
      "  8.67716336e-01 -1.54520199e+00 -2.92461988e-01 -1.24562491e+00\n",
      "  5.84165326e-01 -1.19478162e+00 -6.00020302e-01 -6.99154810e-01\n",
      "  3.73222395e-01 -1.75778406e+00 -8.91908100e-01 -1.23372872e+00\n",
      " -2.08714100e+00 -1.39212466e+00  8.67603048e-01  9.26806908e-01\n",
      " -1.33241460e+00  1.48888326e-01  1.33489097e+00  8.62349234e-02\n",
      " -1.09899055e+00  1.75204382e+00 -2.10604796e+00 -1.20789839e-01\n",
      " -1.12344282e+00  5.01234408e-01  3.72216494e-01  1.09332825e+00\n",
      " -2.91168937e-01 -7.76860360e-01 -1.35582486e+00 -9.24338003e-01\n",
      "  5.06058250e-01  3.19254091e-01 -8.01880612e-02 -2.95839625e-01\n",
      " -3.12172603e-01 -7.34573048e-01  5.96595402e-01  2.67757857e-01\n",
      "  1.40028875e-01 -2.34303143e-01 -3.48371949e-01 -2.94083817e-01\n",
      "  1.02860928e+00  5.85613129e-01 -2.14684166e-01  3.87363914e-01\n",
      " -3.32484845e-01  2.27340018e-01  3.36794586e-01  1.48180515e+00\n",
      "  1.61458880e+00 -1.46016199e+00 -1.26174462e-01  1.03373764e+00\n",
      " -5.27597759e-01  9.03378635e-01  9.64120203e-02  5.85222535e-01\n",
      " -5.57055102e-01 -8.47875522e-01 -9.16844462e-01 -1.28280546e-01\n",
      "  1.15720003e+00  7.62131246e-01 -7.31404027e-01  4.50470740e-01\n",
      " -1.18116590e+00  8.14560031e-01 -1.34100508e+00  1.13483372e+00\n",
      "  7.62527905e-01  4.44785229e-01  1.94128763e-01  7.08765430e-01\n",
      " -4.81732102e-01 -1.19224104e-01 -2.49344564e+00  6.98098969e-01\n",
      "  1.13952054e+00  5.92696559e-01 -1.50788157e-01  5.10605618e-01\n",
      " -4.52615501e-01  2.15639592e+00  1.86431367e+00 -1.05103141e+00\n",
      " -1.89817701e+00  1.39731557e+00 -1.66895730e+00  7.62817245e-01\n",
      "  1.41122026e-01 -6.75609405e-01  1.41765598e+00 -1.30398696e-01\n",
      "  4.97370065e-01  1.29029653e-01  1.74197348e+00 -2.08562488e-02\n",
      "  1.33841618e+00  6.58398386e-01 -1.08876470e+00  6.41463908e-01\n",
      " -6.86686135e-01 -2.86607485e-01 -9.77147402e-01 -2.66811001e-01\n",
      "  1.91130797e-01  1.37910963e-01 -2.33096432e+00 -1.60639745e-01\n",
      "  1.71387946e-02  4.95329738e-01  9.45781220e-01 -9.86263177e-01\n",
      " -8.20976928e-01  4.77422239e-02  3.30260175e-01  3.25823707e-01\n",
      "  2.24092815e+00  1.46906360e+00  4.89751307e-01 -8.77300996e-01\n",
      " -3.14388895e-01 -1.17711777e-01  4.25797650e-01  4.81186126e-01\n",
      " -6.54341218e-01  8.18052358e-01 -7.90298274e-02 -5.35641824e-02\n",
      "  1.43963826e-01 -3.04099101e-01 -1.91991964e-01  3.47201805e-01\n",
      " -1.34098782e+00 -7.58835911e-01 -1.21701879e+00 -1.65307922e-01\n",
      "  1.00656130e+00 -7.61427403e-01 -6.36371676e-01 -4.01898750e-01\n",
      "  1.90284055e+00 -4.70776870e-01  1.39504366e-01  1.90322447e-01\n",
      " -1.78926565e+00  2.07129498e+00  5.00075477e-01  9.35128533e-01\n",
      "  2.30547287e-01  1.12529947e+00  1.92250523e+00  2.62176645e+00\n",
      " -1.63340132e+00 -1.19887775e+00  2.00206077e+00 -1.40996274e+00\n",
      "  8.54771759e-01  1.48760315e-01 -1.04178346e+00 -4.83025131e-01\n",
      " -2.83373889e-01  4.36745704e-01  5.95989420e-01 -2.18305711e-01\n",
      "  9.33762368e-01  1.66676595e+00  8.65412677e-01  4.69111505e-02\n",
      "  2.33845888e-01 -8.65155781e-01  1.44520798e+00  8.46982902e-01\n",
      "  2.27447056e+00  1.57822219e+00 -9.09814712e-01  5.16707345e-01\n",
      " -3.58323965e-01 -5.72207328e-01 -1.33274179e+00  1.08601349e+00\n",
      "  1.71645715e-01  3.40563374e-01  4.53382144e-01  1.71489304e+00]\n",
      "(400,)\n"
     ]
    }
   ],
   "source": [
    "y_pred=[]\n",
    "ide=0\n",
    "id=[]\n",
    "for ix in range(xtest.shape[0]):\n",
    "    y_pred.append(hypothesis(xtest[ix],theta))\n",
    "    id.append(ide)\n",
    "    ide+=1\n",
    "y_pred =np.array(y_pred)\n",
    "id=np.array(id)\n",
    "print(y_pred)\n",
    "print(y_pred.shape)"
   ]
  },
  {
   "cell_type": "code",
   "execution_count": 20,
   "metadata": {},
   "outputs": [],
   "source": [
    "y_pred=pd.DataFrame(y_pred,columns=[\"target\"])"
   ]
  },
  {
   "cell_type": "code",
   "execution_count": 21,
   "metadata": {},
   "outputs": [],
   "source": [
    "y_pred.to_csv('linear regression.csv',index=True)"
   ]
  },
  {
   "cell_type": "code",
   "execution_count": 22,
   "metadata": {},
   "outputs": [],
   "source": [
    "from sklearn import linear_model\n",
    "clf = linear_model.Lasso(alpha=0.1,normalize=True)\n",
    "clf.fit(X,Y)\n",
    "clf.score(X,Y)\n",
    "ypred=clf.predict(xtest)"
   ]
  },
  {
   "cell_type": "code",
   "execution_count": 23,
   "metadata": {},
   "outputs": [],
   "source": [
    "ypred=pd.DataFrame(ypred,columns=[\"target\"])\n",
    "\n",
    "ypred.to_csv('linearlasso.csv',index=True)"
   ]
  },
  {
   "cell_type": "code",
   "execution_count": null,
   "metadata": {},
   "outputs": [],
   "source": []
  }
 ],
 "metadata": {
  "kernelspec": {
   "display_name": "Python 3",
   "language": "python",
   "name": "python3"
  },
  "language_info": {
   "codemirror_mode": {
    "name": "ipython",
    "version": 2
   },
   "file_extension": ".py",
   "mimetype": "text/x-python",
   "name": "python",
   "nbconvert_exporter": "python",
   "pygments_lexer": "ipython2",
   "version": "2.7.12"
  }
 },
 "nbformat": 4,
 "nbformat_minor": 2
}
